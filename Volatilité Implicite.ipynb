{
 "cells": [
  {
   "cell_type": "code",
   "execution_count": 29,
   "id": "c21920a7",
   "metadata": {},
   "outputs": [],
   "source": [
    "import numpy as np\n",
    "import scipy.stats as si\n",
    "\n",
    "def computeImpliedVolatility(optType, S , K , maturity, r, premium):\n",
    "    sigma = np.sqrt(np.abs(np.log(S / K) + r * maturity) * 2 / maturity)\n",
    "    epsilon = 0.0001\n",
    "    diff = np.abs(priceOption(optType, S, K, maturity, r, sigma) - premium)\n",
    "    \n",
    "    while diff > epsilon :\n",
    "        vega = compute_Vega(optType, S, K, maturity, r, sigma)\n",
    "        sigma = sigma - (diff / vega)\n",
    "        diff = np.abs(priceOption(optType, S, K, maturity, r, sigma) - premium)\n",
    "    \n",
    "    return sigma\n",
    "\n",
    "def compute_Vega(optType, S , K, maturity, r , volatility):\n",
    "    d1 = (np.log(S / K) + (r + 0.5 * volatility * volatility) * maturity) / (volatility * np.sqrt(maturity))\n",
    "    return S * np.sqrt(maturity) * si.norm.pdf(d1, 0, 1)\n",
    "\n",
    "\n",
    "def priceOption(optType, S, K, maturity, r, volatility):\n",
    "    d1 = (np.log(S / K) + (r + 0.5 * volatility * volatility) * maturity) / (volatility * np.sqrt(maturity))\n",
    "    d2 = d1 - volatility * np.sqrt(maturity)\n",
    "    if optType == \"call\": return  S * si.norm.cdf(d1, 0.0,1.0) - K * np.exp(-r * maturity) * si.norm.cdf(d2, 0.0,1.0) \n",
    "    return -S * si.norm.cdf(-d1, 0.0,1.0) + K * np.exp(-r * maturity) * si.norm.cdf(d2, 0.0,1.0)\n",
    "\n"
   ]
  },
  {
   "cell_type": "code",
   "execution_count": 30,
   "id": "2bd60280",
   "metadata": {},
   "outputs": [
    {
     "data": {
      "text/plain": [
       "0.15299273409122424"
      ]
     },
     "execution_count": 30,
     "metadata": {},
     "output_type": "execute_result"
    }
   ],
   "source": [
    "S = 100\n",
    "K=  100\n",
    "maturity = 2\n",
    "r = 0.1\n",
    "premium = 20\n",
    "computeImpliedVolatility(\"call\", S,K,maturity,r,premium)"
   ]
  },
  {
   "cell_type": "code",
   "execution_count": null,
   "id": "922451e8",
   "metadata": {},
   "outputs": [],
   "source": []
  }
 ],
 "metadata": {
  "kernelspec": {
   "display_name": "Python 3 (ipykernel)",
   "language": "python",
   "name": "python3"
  },
  "language_info": {
   "codemirror_mode": {
    "name": "ipython",
    "version": 3
   },
   "file_extension": ".py",
   "mimetype": "text/x-python",
   "name": "python",
   "nbconvert_exporter": "python",
   "pygments_lexer": "ipython3",
   "version": "3.11.1"
  }
 },
 "nbformat": 4,
 "nbformat_minor": 5
}
